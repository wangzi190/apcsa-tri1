{
 "cells": [
  {
   "cell_type": "code",
   "execution_count": null,
   "metadata": {
    "vscode": {
     "languageId": "java"
    }
   },
   "outputs": [],
   "source": [
    "//This is a Java program you can use to calculate the standard deviation of a data set.\n",
    "\n",
    "import java.util.Scanner;\n",
    "\n",
    "public class StandardDeviation {\n",
    "    public static void main(String[] args) {\n",
    "        System.out.println(\"Print each number in your data set. To finish, enter 'f.'\");\n",
    "        double[] numArray = {};\n",
    "        i = 0;\n",
    "        while (i != 1) {\n",
    "            Scanner input = new Scanner (System.in);\n",
    "            float num = input.nextLine();\n",
    "            if (num == 'f') {\n",
    "                i = 1;\n",
    "            } else {\n",
    "                parseInt(num);\n",
    "                numArray.push(num);\n",
    "            }\n",
    "        }\n",
    "        double SD = calculateSD(numArray);\n",
    "\n",
    "        System.out.format(\"Standard Deviation = %.6f\", SD);\n",
    "    }\n",
    "\n",
    "    public static double calculateSD(double numArray[])\n",
    "    {\n",
    "        double sum = 0.0, standardDeviation = 0.0;\n",
    "        int length = numArray.length;\n",
    "\n",
    "        for(double num : numArray) {\n",
    "            sum += num;\n",
    "        }\n",
    "\n",
    "        double mean = sum/length;\n",
    "\n",
    "        for(double num: numArray) {\n",
    "            standardDeviation += Math.pow(num - mean, 2);\n",
    "        }\n",
    "\n",
    "        return Math.sqrt(standardDeviation/length);\n",
    "    }\n",
    "}"
   ]
  }
 ],
 "metadata": {
  "kernelspec": {
   "display_name": "Java",
   "language": "java",
   "name": "java"
  },
  "language_info": {
   "codemirror_mode": "java",
   "file_extension": ".jshell",
   "mimetype": "text/x-java-source",
   "name": "Java",
   "pygments_lexer": "java",
   "version": "11.0.16+8-post-Ubuntu-0ubuntu120.04"
  },
  "orig_nbformat": 4
 },
 "nbformat": 4,
 "nbformat_minor": 2
}
