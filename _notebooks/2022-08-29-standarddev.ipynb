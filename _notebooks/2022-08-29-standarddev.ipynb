{
 "cells": [
  {
   "cell_type": "code",
   "execution_count": 2,
   "metadata": {},
   "outputs": [
    {
     "ename": "CompilationException",
     "evalue": "",
     "output_type": "error",
     "traceback": [
      "\u001b[1m\u001b[30m|   \u001b[1m\u001b[30m            if (\u001b[0m\u001b[1m\u001b[30m\u001b[41mnum == 'f'\u001b[0m\u001b[1m\u001b[30m) {\u001b[0m",
      "\u001b[1m\u001b[31mbad operand types for binary operator '=='\u001b[0m",
      "\u001b[1m\u001b[31m  first type:  java.lang.String\u001b[0m",
      "\u001b[1m\u001b[31m  second type: char\u001b[0m",
      "",
      "\u001b[1m\u001b[30m|   \u001b[1m\u001b[30m                \u001b[0m\u001b[1m\u001b[30m\u001b[41mparseInt\u001b[0m\u001b[1m\u001b[30m(num);\u001b[0m",
      "\u001b[1m\u001b[31mcannot find symbol\u001b[0m",
      "\u001b[1m\u001b[31m  symbol:   method parseInt(java.lang.String)\u001b[0m",
      "",
      "\u001b[1m\u001b[30m|   \u001b[1m\u001b[30m                \u001b[0m\u001b[1m\u001b[30m\u001b[41mnumArray.push\u001b[0m\u001b[1m\u001b[30m(num);\u001b[0m",
      "\u001b[1m\u001b[31mcannot find symbol\u001b[0m",
      "\u001b[1m\u001b[31m  symbol:   method push(java.lang.String)\u001b[0m",
      ""
     ]
    }
   ],
   "source": [
    "//This is a Java program you can use to calculate the standard deviation of a data set.\n",
    "\n",
    "import java.util.Scanner;\n",
    "\n",
    "public class TemperatureConversion {\n",
    "    public static void main(String[] args) {\n",
    "        System.out.println(\"Print a temperate in Fahrenheit. The output will be that temperature in Celsius.\");\n",
    "        \n",
    "        int i = 0;\n",
    "        while (i != 1) {\n",
    "            Scanner input = new Scanner (System.in);\n",
    "            String num = input.nextLine();\n",
    "            if (num == 'f') {\n",
    "                i = 1;\n",
    "            } else {\n",
    "                parseInt(num);\n",
    "                numArray.push(num);\n",
    "            }\n",
    "        }\n",
    "        double SD = calculateSD(numArray);\n",
    "\n",
    "        System.out.format(\"Standard Deviation = %.6f\", SD);\n",
    "    }\n",
    "}"
   ]
  },
  {
   "cell_type": "code",
   "execution_count": null,
   "metadata": {},
   "outputs": [],
   "source": []
  }
 ],
 "metadata": {
  "kernelspec": {
   "display_name": "Java",
   "language": "java",
   "name": "java"
  },
  "language_info": {
   "codemirror_mode": "java",
   "file_extension": ".jshell",
   "mimetype": "text/x-java-source",
   "name": "java",
   "pygments_lexer": "java",
   "version": "11.0.16+8-post-Ubuntu-0ubuntu120.04"
  },
  "orig_nbformat": 4
 },
 "nbformat": 4,
 "nbformat_minor": 2
}
